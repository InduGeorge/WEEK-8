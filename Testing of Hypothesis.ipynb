{
 "cells": [
  {
   "cell_type": "markdown",
   "id": "943c0c2b",
   "metadata": {},
   "source": [
    "A company started to invest in digital marketing as a new way of their product\n",
    "promotions.For that they collected data and decided to carry out a study on it.\n",
    "\n",
    "● The company wishes to clarify whether there is any increase in sales after\n",
    "stepping into digital marketing.\n",
    "\n",
    "● The company needs to check whether there is any dependency between the\n",
    "features “Region” and “Manager”.\n",
    "\n",
    "Help the company to carry out their study with the help of data provided"
   ]
  },
  {
   "cell_type": "code",
   "execution_count": 1,
   "id": "55f4a943",
   "metadata": {},
   "outputs": [],
   "source": [
    "import pandas as pd\n",
    "import numpy as np\n",
    "import matplotlib.pyplot as plt\n",
    "import seaborn as sns"
   ]
  },
  {
   "cell_type": "code",
   "execution_count": 3,
   "id": "4cf56f3e",
   "metadata": {},
   "outputs": [
    {
     "data": {
      "text/html": [
       "<div>\n",
       "<style scoped>\n",
       "    .dataframe tbody tr th:only-of-type {\n",
       "        vertical-align: middle;\n",
       "    }\n",
       "\n",
       "    .dataframe tbody tr th {\n",
       "        vertical-align: top;\n",
       "    }\n",
       "\n",
       "    .dataframe thead th {\n",
       "        text-align: right;\n",
       "    }\n",
       "</style>\n",
       "<table border=\"1\" class=\"dataframe\">\n",
       "  <thead>\n",
       "    <tr style=\"text-align: right;\">\n",
       "      <th></th>\n",
       "      <th>Month</th>\n",
       "      <th>Region</th>\n",
       "      <th>Manager</th>\n",
       "      <th>Sales_before_digital_add(in $)</th>\n",
       "      <th>Sales_After_digital_add(in $)</th>\n",
       "    </tr>\n",
       "  </thead>\n",
       "  <tbody>\n",
       "    <tr>\n",
       "      <th>0</th>\n",
       "      <td>Month-1</td>\n",
       "      <td>Region - A</td>\n",
       "      <td>Manager - A</td>\n",
       "      <td>132921</td>\n",
       "      <td>270390</td>\n",
       "    </tr>\n",
       "    <tr>\n",
       "      <th>1</th>\n",
       "      <td>Month-2</td>\n",
       "      <td>Region - A</td>\n",
       "      <td>Manager - C</td>\n",
       "      <td>149559</td>\n",
       "      <td>223334</td>\n",
       "    </tr>\n",
       "    <tr>\n",
       "      <th>2</th>\n",
       "      <td>Month-3</td>\n",
       "      <td>Region - B</td>\n",
       "      <td>Manager - A</td>\n",
       "      <td>146278</td>\n",
       "      <td>244243</td>\n",
       "    </tr>\n",
       "    <tr>\n",
       "      <th>3</th>\n",
       "      <td>Month-4</td>\n",
       "      <td>Region - B</td>\n",
       "      <td>Manager - B</td>\n",
       "      <td>152167</td>\n",
       "      <td>231808</td>\n",
       "    </tr>\n",
       "    <tr>\n",
       "      <th>4</th>\n",
       "      <td>Month-5</td>\n",
       "      <td>Region - C</td>\n",
       "      <td>Manager - B</td>\n",
       "      <td>159525</td>\n",
       "      <td>258402</td>\n",
       "    </tr>\n",
       "  </tbody>\n",
       "</table>\n",
       "</div>"
      ],
      "text/plain": [
       "     Month      Region      Manager  Sales_before_digital_add(in $)  \\\n",
       "0  Month-1  Region - A  Manager - A                          132921   \n",
       "1  Month-2  Region - A  Manager - C                          149559   \n",
       "2  Month-3  Region - B  Manager - A                          146278   \n",
       "3  Month-4  Region - B  Manager - B                          152167   \n",
       "4  Month-5  Region - C  Manager - B                          159525   \n",
       "\n",
       "   Sales_After_digital_add(in $)  \n",
       "0                         270390  \n",
       "1                         223334  \n",
       "2                         244243  \n",
       "3                         231808  \n",
       "4                         258402  "
      ]
     },
     "execution_count": 3,
     "metadata": {},
     "output_type": "execute_result"
    }
   ],
   "source": [
    "#read the data\n",
    "data=pd.read_csv('Downloads/Sales_add.csv')\n",
    "data.head()\n"
   ]
  },
  {
   "cell_type": "code",
   "execution_count": 49,
   "id": "8d85f691",
   "metadata": {},
   "outputs": [
    {
     "name": "stdout",
     "output_type": "stream",
     "text": [
      "<class 'pandas.core.frame.DataFrame'>\n",
      "RangeIndex: 22 entries, 0 to 21\n",
      "Data columns (total 5 columns):\n",
      " #   Column                          Non-Null Count  Dtype \n",
      "---  ------                          --------------  ----- \n",
      " 0   Month                           22 non-null     object\n",
      " 1   Region                          22 non-null     object\n",
      " 2   Manager                         22 non-null     object\n",
      " 3   Sales_before_digital_add(in $)  22 non-null     int64 \n",
      " 4   Sales_After_digital_add(in $)   22 non-null     int64 \n",
      "dtypes: int64(2), object(3)\n",
      "memory usage: 1008.0+ bytes\n"
     ]
    }
   ],
   "source": [
    "data.info()"
   ]
  },
  {
   "cell_type": "code",
   "execution_count": 50,
   "id": "64740657",
   "metadata": {},
   "outputs": [
    {
     "data": {
      "text/html": [
       "<div>\n",
       "<style scoped>\n",
       "    .dataframe tbody tr th:only-of-type {\n",
       "        vertical-align: middle;\n",
       "    }\n",
       "\n",
       "    .dataframe tbody tr th {\n",
       "        vertical-align: top;\n",
       "    }\n",
       "\n",
       "    .dataframe thead th {\n",
       "        text-align: right;\n",
       "    }\n",
       "</style>\n",
       "<table border=\"1\" class=\"dataframe\">\n",
       "  <thead>\n",
       "    <tr style=\"text-align: right;\">\n",
       "      <th></th>\n",
       "      <th>Sales_before_digital_add(in $)</th>\n",
       "      <th>Sales_After_digital_add(in $)</th>\n",
       "    </tr>\n",
       "  </thead>\n",
       "  <tbody>\n",
       "    <tr>\n",
       "      <th>count</th>\n",
       "      <td>22.000000</td>\n",
       "      <td>22.000000</td>\n",
       "    </tr>\n",
       "    <tr>\n",
       "      <th>mean</th>\n",
       "      <td>149239.954545</td>\n",
       "      <td>231123.727273</td>\n",
       "    </tr>\n",
       "    <tr>\n",
       "      <th>std</th>\n",
       "      <td>14844.042921</td>\n",
       "      <td>25556.777061</td>\n",
       "    </tr>\n",
       "    <tr>\n",
       "      <th>min</th>\n",
       "      <td>130263.000000</td>\n",
       "      <td>187305.000000</td>\n",
       "    </tr>\n",
       "    <tr>\n",
       "      <th>25%</th>\n",
       "      <td>138087.750000</td>\n",
       "      <td>214960.750000</td>\n",
       "    </tr>\n",
       "    <tr>\n",
       "      <th>50%</th>\n",
       "      <td>147444.000000</td>\n",
       "      <td>229986.500000</td>\n",
       "    </tr>\n",
       "    <tr>\n",
       "      <th>75%</th>\n",
       "      <td>157627.500000</td>\n",
       "      <td>250909.000000</td>\n",
       "    </tr>\n",
       "    <tr>\n",
       "      <th>max</th>\n",
       "      <td>178939.000000</td>\n",
       "      <td>276279.000000</td>\n",
       "    </tr>\n",
       "  </tbody>\n",
       "</table>\n",
       "</div>"
      ],
      "text/plain": [
       "       Sales_before_digital_add(in $)  Sales_After_digital_add(in $)\n",
       "count                       22.000000                      22.000000\n",
       "mean                    149239.954545                  231123.727273\n",
       "std                      14844.042921                   25556.777061\n",
       "min                     130263.000000                  187305.000000\n",
       "25%                     138087.750000                  214960.750000\n",
       "50%                     147444.000000                  229986.500000\n",
       "75%                     157627.500000                  250909.000000\n",
       "max                     178939.000000                  276279.000000"
      ]
     },
     "execution_count": 50,
     "metadata": {},
     "output_type": "execute_result"
    }
   ],
   "source": [
    "data.describe()"
   ]
  },
  {
   "cell_type": "markdown",
   "id": "5f1d45b7",
   "metadata": {},
   "source": [
    "# To check whether there is any increase in sales after stepping into digital marketing."
   ]
  },
  {
   "cell_type": "code",
   "execution_count": 53,
   "id": "72b2d9e2",
   "metadata": {},
   "outputs": [],
   "source": [
    "x=data['Sales_before_digital_add(in $)']\n",
    "y=data['Sales_After_digital_add(in $)']"
   ]
  },
  {
   "cell_type": "code",
   "execution_count": 54,
   "id": "556a95a4",
   "metadata": {},
   "outputs": [
    {
     "name": "stdout",
     "output_type": "stream",
     "text": [
      "210329900.67975205 623460269.4710745\n"
     ]
    }
   ],
   "source": [
    "print(np.var(x), np.var(y))"
   ]
  },
  {
   "cell_type": "code",
   "execution_count": 55,
   "id": "fce86fe2",
   "metadata": {},
   "outputs": [
    {
     "name": "stdout",
     "output_type": "stream",
     "text": [
      "2.9642017965878944\n"
     ]
    }
   ],
   "source": [
    "print(np.var(y)/np.var(x))"
   ]
  },
  {
   "cell_type": "code",
   "execution_count": 56,
   "id": "a506c987",
   "metadata": {},
   "outputs": [],
   "source": [
    "#set hypothesis"
   ]
  },
  {
   "cell_type": "markdown",
   "id": "dbe7a8ec",
   "metadata": {},
   "source": [
    "Null Hypothesis: µ1 >= µ2 (Average sales before digital add is greater than or equal to that of the average  sales after digital adds)\n",
    "\n",
    "Alternative Hypothesis: µ1 < µ2 (Average sales before digital add is greater than or equal that of the average  sales after digital adds)"
   ]
  },
  {
   "cell_type": "code",
   "execution_count": 57,
   "id": "9b810aad",
   "metadata": {},
   "outputs": [
    {
     "data": {
      "text/plain": [
       "Ttest_indResult(statistic=-12.995084451110877, pvalue=2.614368006904645e-16)"
      ]
     },
     "execution_count": 57,
     "metadata": {},
     "output_type": "execute_result"
    }
   ],
   "source": [
    "import scipy.stats as stats\n",
    "stats.ttest_ind(x, y, equal_var=True)"
   ]
  },
  {
   "cell_type": "markdown",
   "id": "2f0f1230",
   "metadata": {},
   "source": [
    "Insight-\n",
    "\n",
    "Here P-Value is less than 0.05(alpha).So we reject the null hypothesis.Thereore the average sales has increased after using the \n",
    "digital adds"
   ]
  },
  {
   "cell_type": "markdown",
   "id": "35bc7e65",
   "metadata": {},
   "source": [
    "# To check whether there is any dependency between the features “Region” and “Manager”\n"
   ]
  },
  {
   "cell_type": "code",
   "execution_count": 58,
   "id": "140ecb4d",
   "metadata": {},
   "outputs": [],
   "source": [
    "#set hypothesis"
   ]
  },
  {
   "cell_type": "markdown",
   "id": "84824858",
   "metadata": {},
   "source": [
    "H0 = There is no dependency between the features “Region” and “Manager”\n",
    "\n",
    "H1 = There is a dependency between the features “Region” and “Manager”"
   ]
  },
  {
   "cell_type": "code",
   "execution_count": 59,
   "id": "5ce41d0a",
   "metadata": {},
   "outputs": [
    {
     "name": "stdout",
     "output_type": "stream",
     "text": [
      "Manager     Manager - A  Manager - B  Manager - C\n",
      "Region                                           \n",
      "Region - A            4            3            3\n",
      "Region - B            4            1            2\n",
      "Region - C            1            3            1\n"
     ]
    }
   ],
   "source": [
    "data1=pd.crosstab(data['Region'],data['Manager'])\n",
    "print(data1)"
   ]
  },
  {
   "cell_type": "code",
   "execution_count": 60,
   "id": "e1ad1dc4",
   "metadata": {},
   "outputs": [
    {
     "name": "stdout",
     "output_type": "stream",
     "text": [
      "observed values are : [[4 3 3]\n",
      " [4 1 2]\n",
      " [1 3 1]]\n"
     ]
    }
   ],
   "source": [
    "#observed values\n",
    "observed_values=data1.values\n",
    "print('observed values are :',observed_values)"
   ]
  },
  {
   "cell_type": "code",
   "execution_count": 61,
   "id": "14a31904",
   "metadata": {},
   "outputs": [
    {
     "data": {
      "text/plain": [
       "(3.050566893424036,\n",
       " 0.5493991051158094,\n",
       " 4,\n",
       " array([[4.09090909, 3.18181818, 2.72727273],\n",
       "        [2.86363636, 2.22727273, 1.90909091],\n",
       "        [2.04545455, 1.59090909, 1.36363636]]))"
      ]
     },
     "execution_count": 61,
     "metadata": {},
     "output_type": "execute_result"
    }
   ],
   "source": [
    "val=stats.chi2_contingency(data1)\n",
    "val"
   ]
  },
  {
   "cell_type": "code",
   "execution_count": 62,
   "id": "17bbf246",
   "metadata": {},
   "outputs": [],
   "source": [
    "expected_values=val[3]"
   ]
  },
  {
   "cell_type": "code",
   "execution_count": 63,
   "id": "37e71435",
   "metadata": {},
   "outputs": [
    {
     "name": "stdout",
     "output_type": "stream",
     "text": [
      "Degree of freedom: 4\n"
     ]
    }
   ],
   "source": [
    "no_of_rows=len(data.iloc[0:3,0])\n",
    "no_of_columns=len(data.iloc[0,0:3])\n",
    "ddof=(no_of_rows-1)*(no_of_columns-1)\n",
    "print('Degree of freedom:',ddof)\n",
    "alpha=0.05"
   ]
  },
  {
   "cell_type": "code",
   "execution_count": 64,
   "id": "c4c6fa40",
   "metadata": {},
   "outputs": [
    {
     "name": "stdout",
     "output_type": "stream",
     "text": [
      "chi-square statistic : 2.921995464852608\n"
     ]
    }
   ],
   "source": [
    "from scipy.stats import chi2\n",
    "chi_square=sum([(o-e)**2./e for o,e in zip(observed_values,expected_values)])\n",
    "chi_square_statistic=chi_square[0]+chi_square[1]\n",
    "print('chi-square statistic :',chi_square_statistic)"
   ]
  },
  {
   "cell_type": "code",
   "execution_count": 65,
   "id": "3dec92e3",
   "metadata": {},
   "outputs": [
    {
     "name": "stdout",
     "output_type": "stream",
     "text": [
      "critical value: 9.487729036781154\n"
     ]
    }
   ],
   "source": [
    "critical_value=chi2.ppf(q=1-alpha,df=ddof)\n",
    "print('critical value:',critical_value)"
   ]
  },
  {
   "cell_type": "code",
   "execution_count": 66,
   "id": "76188065",
   "metadata": {},
   "outputs": [
    {
     "name": "stdout",
     "output_type": "stream",
     "text": [
      "P-value : 0.5709629929220089\n",
      "Significance level : 0.05\n",
      "Degree of Freedom : 4\n"
     ]
    }
   ],
   "source": [
    "#p value\n",
    "p_value=1-chi2.cdf(x=chi_square_statistic,df=ddof)\n",
    "print('P-value :',p_value)\n",
    "print('Significance level :',alpha)\n",
    "print('Degree of Freedom :',ddof)"
   ]
  },
  {
   "cell_type": "code",
   "execution_count": 67,
   "id": "e716819e",
   "metadata": {},
   "outputs": [
    {
     "name": "stdout",
     "output_type": "stream",
     "text": [
      "Retain H0,there is no dependency between the features Region and Manager\n",
      "Retain H0,there is no dependency between the features Region and Manager\n"
     ]
    }
   ],
   "source": [
    "if chi_square_statistic>=critical_value:\n",
    "    print('Reject H0,there is a dependency between the features Region and Manager')\n",
    "else:\n",
    "    print('Retain H0,there is no dependency between the features Region and Manager')\n",
    "if p_value<=alpha:\n",
    "     print('Reject H0,there is a dependency between the features Region and Manager')\n",
    "else:\n",
    "    print('Retain H0,there is no dependency between the features Region and Manager')        \n",
    "    \n"
   ]
  },
  {
   "cell_type": "code",
   "execution_count": null,
   "id": "8f8e7c29",
   "metadata": {},
   "outputs": [],
   "source": []
  }
 ],
 "metadata": {
  "kernelspec": {
   "display_name": "Python 3",
   "language": "python",
   "name": "python3"
  },
  "language_info": {
   "codemirror_mode": {
    "name": "ipython",
    "version": 3
   },
   "file_extension": ".py",
   "mimetype": "text/x-python",
   "name": "python",
   "nbconvert_exporter": "python",
   "pygments_lexer": "ipython3",
   "version": "3.8.8"
  }
 },
 "nbformat": 4,
 "nbformat_minor": 5
}
